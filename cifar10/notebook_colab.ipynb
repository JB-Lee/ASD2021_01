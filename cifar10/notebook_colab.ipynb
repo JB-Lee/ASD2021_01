{
 "cells": [
  {
   "cell_type": "code",
   "execution_count": null,
   "metadata": {
    "collapsed": true
   },
   "outputs": [],
   "source": [
    "!pip install pytorch-lightning --quiet\n",
    "!git clone https://github.com/JB-Lee/ASD2021_01.git"
   ]
  },
  {
   "cell_type": "code",
   "execution_count": null,
   "outputs": [],
   "source": [
    "%load_ext autoreload\n",
    "%autoreload 1\n",
    "\n",
    "import sys\n",
    "sys.path.append('/content/ASD2021_01/cifar10')\n"
   ],
   "metadata": {
    "collapsed": false,
    "pycharm": {
     "name": "#%%\n"
    }
   }
  },
  {
   "cell_type": "code",
   "execution_count": 1,
   "outputs": [],
   "source": [
    "\n",
    "GPUS = 1\n",
    "PRECISION = 16\n",
    "PATIENCE = 3\n",
    "LOG_DIR = 'tb_logs'\n",
    "\n",
    "BATCH_SIZE = 200\n",
    "LEARNING_RATE = 1e-03\n",
    "\n",
    "class MLP:\n",
    "    HIDDEN_SIZE = 16 * 16\n",
    "    HIDDEN_COUNT = 4\n",
    "    DROPOUT = 0.2\n",
    "\n",
    "class RESNET:\n",
    "    NUM_BLOCKS = [2, 2, 2, 2]\n",
    "    IN_BLOCK_CHANNELS = 32\n",
    "\n"
   ],
   "metadata": {
    "collapsed": false,
    "pycharm": {
     "name": "#%%\n"
    }
   }
  },
  {
   "cell_type": "code",
   "execution_count": 2,
   "outputs": [
    {
     "name": "stdout",
     "output_type": "stream",
     "text": [
      "Files already downloaded and verified\n",
      "Files already downloaded and verified\n"
     ]
    }
   ],
   "source": [
    "%aimport model\n",
    "\n",
    "import torch\n",
    "import torchvision\n",
    "import torchvision.transforms as transforms\n",
    "\n",
    "import pytorch_lightning as pl\n",
    "\n",
    "from pytorch_lightning.callbacks import EarlyStopping\n",
    "from pytorch_lightning.loggers import TensorBoardLogger\n",
    "\n",
    "base_transform = transforms.Compose(\n",
    "    [transforms.ToTensor(),\n",
    "     transforms.Normalize((0.5, 0.5, 0.5), (0.5, 0.5, 0.5))])\n",
    "\n",
    "data_augmentation = transforms.Compose(\n",
    "    [transforms.RandomResizedCrop((32, 32), scale=(0.9, 1.0), ratio=(0.9, 1.1)),\n",
    "     transforms.RandomHorizontalFlip(),\n",
    "     transforms.RandomRotation(5)]\n",
    ")\n",
    "\n",
    "\n",
    "train_set = torchvision.datasets.CIFAR10(root='./data', train=True,\n",
    "                                         download=True, transform=base_transform)\n",
    "test_set = torchvision.datasets.CIFAR10(root='./data', train=False,\n",
    "                                        download=True, transform=base_transform)\n",
    "\n",
    "train_loader = torch.utils.data.DataLoader(train_set, batch_size=BATCH_SIZE,\n",
    "                                          shuffle=True, num_workers=2, pin_memory=True)\n",
    "test_loader = torch.utils.data.DataLoader(test_set, batch_size=BATCH_SIZE,\n",
    "                                         shuffle=False, num_workers=2, pin_memory=True)\n",
    "\n",
    "classes = ('plane', 'car', 'bird', 'cat',\n",
    "           'deer', 'dog', 'frog', 'horse', 'ship', 'truck')\n"
   ],
   "metadata": {
    "collapsed": false,
    "pycharm": {
     "name": "#%%\n"
    }
   }
  },
  {
   "cell_type": "markdown",
   "source": [
    "### MLP"
   ],
   "metadata": {
    "collapsed": false
   }
  },
  {
   "cell_type": "code",
   "execution_count": 5,
   "outputs": [],
   "source": [
    "early_stopping = EarlyStopping(\n",
    "    monitor='val_loss',\n",
    "    patience=PATIENCE,\n",
    "    check_finite=True\n",
    ")\n",
    "\n",
    "logger = TensorBoardLogger(LOG_DIR, name=f'mlp_bs({BATCH_SIZE})_hs({MLP.HIDDEN_SIZE})_hc({MLP.HIDDEN_COUNT})_dr({MLP.DROPOUT})', log_graph=True, default_hp_metric=True)\n",
    "\n",
    "net = model.MLPCifar10(MLP.HIDDEN_SIZE, MLP.HIDDEN_COUNT, dropout=MLP.DROPOUT, transform=data_augmentation, learning_rate = LEARNING_RATE)\n",
    "trainer = pl.Trainer(gpus=GPUS, callbacks=[early_stopping], logger=logger, precision=PRECISION)\n",
    "trainer.fit(net, train_loader, test_loader)"
   ],
   "metadata": {
    "collapsed": false,
    "pycharm": {
     "name": "#%%\n"
    }
   }
  },
  {
   "cell_type": "markdown",
   "source": [
    "### CNN"
   ],
   "metadata": {
    "collapsed": false
   }
  },
  {
   "cell_type": "code",
   "execution_count": null,
   "outputs": [],
   "source": [
    "early_stopping = EarlyStopping(\n",
    "    monitor='val_loss',\n",
    "    patience=PATIENCE,\n",
    "    check_finite=True\n",
    ")\n",
    "\n",
    "logger = TensorBoardLogger(LOG_DIR, name=f'deep cnn_bs({BATCH_SIZE})', log_graph=True, default_hp_metric=True)\n",
    "\n",
    "net = model.DCNNCifar10(transform=data_augmentation, learning_rate = LEARNING_RATE)\n",
    "trainer = pl.Trainer(gpus=GPUS, callbacks=[early_stopping], logger=logger, precision=PRECISION)\n",
    "trainer.fit(net, train_loader, test_loader)"
   ],
   "metadata": {
    "collapsed": false,
    "pycharm": {
     "name": "#%%\n"
    }
   }
  },
  {
   "cell_type": "markdown",
   "source": [
    "### ResNet"
   ],
   "metadata": {
    "collapsed": false,
    "pycharm": {
     "name": "#%% md\n"
    }
   }
  },
  {
   "cell_type": "code",
   "execution_count": null,
   "outputs": [],
   "source": [
    "early_stopping = EarlyStopping(\n",
    "    monitor='val_loss',\n",
    "    patience=PATIENCE,\n",
    "    check_finite=True\n",
    ")\n",
    "\n",
    "logger = TensorBoardLogger(LOG_DIR, name=f'ResNet_bs({BATCH_SIZE})_nb({RESNET.NUM_BLOCKS})_ibc({RESNET.IN_BLOCK_CHANNELS})', log_graph=True, default_hp_metric=True)\n",
    "\n",
    "net = model.ResV2Cifar10(RESNET.NUM_BLOCKS, in_block_hannels=RESNET.IN_BLOCK_CHANNELS, transform=data_augmentation, learning_rate = LEARNING_RATE)\n",
    "trainer = pl.Trainer(gpus=GPUS, callbacks=[early_stopping], logger=logger, precision=PRECISION)\n",
    "trainer.fit(net, train_loader, test_loader)"
   ],
   "metadata": {
    "collapsed": false,
    "pycharm": {
     "name": "#%%\n"
    }
   }
  },
  {
   "cell_type": "markdown",
   "source": [
    "## Tensorboard"
   ],
   "metadata": {
    "collapsed": false
   }
  },
  {
   "cell_type": "code",
   "execution_count": null,
   "outputs": [],
   "source": [
    "%load_ext tensorboard\n",
    "%tensorboard --logdir tb_logs"
   ],
   "metadata": {
    "collapsed": false,
    "pycharm": {
     "name": "#%%\n"
    }
   }
  }
 ],
 "metadata": {
  "kernelspec": {
   "display_name": "Python 3",
   "language": "python",
   "name": "python3"
  },
  "language_info": {
   "codemirror_mode": {
    "name": "ipython",
    "version": 2
   },
   "file_extension": ".py",
   "mimetype": "text/x-python",
   "name": "python",
   "nbconvert_exporter": "python",
   "pygments_lexer": "ipython2",
   "version": "2.7.6"
  }
 },
 "nbformat": 4,
 "nbformat_minor": 0
}